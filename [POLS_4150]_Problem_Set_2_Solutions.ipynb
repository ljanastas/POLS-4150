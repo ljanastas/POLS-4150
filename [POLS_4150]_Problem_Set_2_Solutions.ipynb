{
  "nbformat": 4,
  "nbformat_minor": 0,
  "metadata": {
    "colab": {
      "name": "[POLS 4150] Problem Set 2 Solutions.ipynb",
      "provenance": [],
      "collapsed_sections": [],
      "authorship_tag": "ABX9TyPzLP1J4K+7bHbnFMZiArAE",
      "include_colab_link": true
    },
    "kernelspec": {
      "name": "ir",
      "display_name": "R"
    }
  },
  "cells": [
    {
      "cell_type": "markdown",
      "metadata": {
        "id": "view-in-github",
        "colab_type": "text"
      },
      "source": [
        "<a href=\"https://colab.research.google.com/github/ljanastas/POLS-4150/blob/master/%5BPOLS_4150%5D_Problem_Set_2_Solutions.ipynb\" target=\"_parent\"><img src=\"https://colab.research.google.com/assets/colab-badge.svg\" alt=\"Open In Colab\"/></a>"
      ]
    },
    {
      "cell_type": "markdown",
      "metadata": {
        "id": "nn5_C4astOm7",
        "colab_type": "text"
      },
      "source": [
        "# **POLS 4150** Problem Set 2 Solutions"
      ]
    },
    {
      "cell_type": "markdown",
      "metadata": {
        "id": "oXt98Bv-wI12",
        "colab_type": "text"
      },
      "source": [
        "## Chapter 2: 9,10,11\n",
        "\n",
        "### 9.\n",
        "\n",
        "There are lots of possibilities. Here is one: gentrification. Many African-American, Hispanic and white ethnic (Greek, Italian, Irish etc) have experienced gentrification as young professionals move in to take advantage of the lower housing costs temporarily and then leave. This dissolves long standing communities. \n",
        "\n",
        "### 10. \n",
        " Sure, if they have similar problems.\n",
        "\n",
        "### 11.\n",
        "Yes. If social capital continues to decline, we may see increases in crime and other issues.\n",
        "\n"
      ]
    },
    {
      "cell_type": "markdown",
      "metadata": {
        "id": "AQd4MwYGyI1R",
        "colab_type": "text"
      },
      "source": [
        "## Chapter 3: 3, 4, 6, 8*, 9\n",
        "\n",
        "### 3.\n",
        "\n",
        "a.  Firefighters are more likely to go into a house if the fire itself was more severe to begin with. Thus, the strength/ferocity of the actual fire (Z) might have caused the property damage.\n",
        "\n",
        "b. Weak incumbents will  spend more money on their campaign when they are doing poorly in the polls to improve their chances. Thus, their poor performance (Z) is challenges the  causal link between spending (X) and vote share (Y).\n",
        "\n",
        "c. Women who drink coffee may be less prone to depression. For example,women  who drink coffee might be happily employed (Z), which affects their propensity for depression and coffee drinking. \n",
        "\n",
        "d. The higher salaries for Presbyterian ministers and the higher rum prices can be caused by inflation (Z). \n",
        "\n",
        "### 4.\n",
        "\n",
        "a.  Probabilistic: College graduates are more likely to turnout to vote than undergraduates because they are taught about civic duty in college.\n",
        "\n",
        "Deterministic: If you have a college degree you will turn out to vote, if you have a high school degree you will not. \n",
        "\n",
        "\n",
        "(b) Probabilistic: countries with healthier economies are less likely to have revolutions because economic prosperity is important for political stability.\n",
        "\n",
        "Deterministic: A country with a healthy economy will not have revolutions, a country with an unhealthy economy will have a revolution.\n",
        "\n",
        "\n",
        "(c) Probabilistic: Taller candidates are more likely to get elected. \n",
        "\n",
        "Deterministic: Each inch of height over 6’ for a man or woman always leads to a 1% increase in vote share.\n",
        "\n",
        "\n",
        "### 6.\n",
        "\n",
        "The answer here is clearly (a). \n",
        "\n",
        "For a we are only uncertain about whether there is reverse causality but we have a solid theory, covariation and we know that we have controlled for all covariates. \n",
        "\n",
        "(b) is incorrect because there could still be confounders in this case.\n",
        "\n",
        "(c) is incorrect because we have no causal theory to explain the results.\n",
        "\n",
        "### 8.\n",
        "(a) The causal theory that connects the independent (shaming/peer pressure) to the dependent variable (voter turnout) is that the desire to conform and be part of a group is strong. There are other acceptable explanations for this as well.\n",
        "\n",
        "(b) There is more than one acceptable answer for this.  I would say that this is a reasonable scorecard:\n",
        "\n",
        "* [yyyy]: Here there is a causal theory, the design does not allow for reverse causality, there is covariation between X and Y and randomizaton has presumably has controlled for potential confounding variables."
      ]
    },
    {
      "cell_type": "markdown",
      "metadata": {
        "id": "kyB6tDNBBGxf",
        "colab_type": "text"
      },
      "source": [
        "### 9.\n",
        "\n",
        "(a) Spending on social welfare programs $\\rightarrow^{causes} \\rightarrow$ Economic inequality\n",
        "\n",
        "**Answer**: Presumably the theory would be that more spending on social welfare programs leads to lower economic inequality.\n",
        "\n",
        "A confounder would have to be something that is related to  spending on social welfare programs and economic inequality. Here are 2 possibilities:\n",
        "\n",
        "\n",
        "\n",
        "1.   Liberal ideology: countries in which the people are more liberal would be more likely to support policies that increase social welfare spending and would be also have lower economic inequality for reasons other than social welfare spending. \n",
        "\n",
        "2.  Low % of women working: in more traditional countries, there are fewer women in the workforce and women care for their children rather than spending money on childcare, daycare etc. This would decrease spending on social welfare and potentially higher economic inequality.\n",
        "\n",
        "\n",
        "\n"
      ]
    },
    {
      "cell_type": "markdown",
      "metadata": {
        "id": "2v4Sp333Fp6n",
        "colab_type": "text"
      },
      "source": [
        "# R Code for Problem Set 2"
      ]
    },
    {
      "cell_type": "code",
      "metadata": {
        "id": "GEQCs2euwPkb",
        "colab_type": "code",
        "outputId": "afa00fb6-e0f9-4619-9013-aa54b575a4cc",
        "colab": {
          "base_uri": "https://localhost:8080/",
          "height": 195
        }
      },
      "source": [
        "##############################################################\n",
        "##############################################################\n",
        "##############################################################\n",
        "# Problem Set 2: Data Importing and Manipulation\n",
        "##############################################################\n",
        "##############################################################\n",
        "##############################################################\n",
        "\n",
        "library(foreign)\n",
        "gagovdata = read.csv('https://collie-coral-2ty3.squarespace.com/s/gagovdata.csv') # This loads the data\n",
        "head(gagovdata)\n",
        "\n",
        "# Instructions: download the data in the Problem Set 2 folder \"ga-results-2018.csv\" and \n",
        "# import it into R Answer the following questions.\n",
        "\n",
        "# 1.  Create a new variable called \"vote.share\" for each of the candidates \n",
        "# in the dataset which is equal to the total votes divided by the ballots cast.\n",
        "\n",
        "############# Place your code here ########################### \n",
        "\n",
        "vote.share = gagovdata$total.votes/gagovdata$ballots.cast\n",
        "\n",
        "############# Place your code here ########################### \n",
        "\n",
        "# 2. Append the new variable that you created to the original dataset\n",
        "# which should be called \"gagov.data\"\n",
        "\n",
        "\n",
        "############# Place your code here ########################### \n",
        "\n",
        "gagov.data = data.frame(gagovdata,vote.share)\n",
        "\n",
        "############# Place your code here ########################### \n",
        "\n",
        "\n",
        "\n",
        "# 3. Create two new variables \"vote.share.rep\" and \"vote.share.dem\"\n",
        "# which are subsets of vote share among Republicans and Democrats, respectively\n",
        "\n",
        "\n",
        "############# Place your code here ########################### \n",
        "\n",
        "vote.share.rep = vote.share[gagov.data$party.name == \"Republican\"] # This is Republican vote share\n",
        "\n",
        "vote.share.dem = vote.share[gagov.data$party.name == \"Democrat\"] # This is Democratic vote share\n",
        "\n",
        "############# Place your code here ########################### \n",
        "\n",
        "\n",
        "\n",
        "\n",
        "\n",
        "\n",
        "\n",
        "\n",
        "\n"
      ],
      "execution_count": 8,
      "outputs": [
        {
          "output_type": "display_data",
          "data": {
            "text/plain": [
              "  line.number contest.name        choice.name               party.name \n",
              "1 1           Governor            BRIAN KEMP  (REP)         Republican \n",
              "2 2           Governor            STACEY ABRAMS  (DEM)      Democrat   \n",
              "3 3           Governor            TED METZ (LIB)            Liberterian\n",
              "4 4           Lieutenant Governor GEOFF DUNCAN  (REP)       Republican \n",
              "5 5           Lieutenant Governor SARAH RIGGS AMICO (DEM)   Democrat   \n",
              "6 6           Secretary Of State  BRAD RAFFENSPERGER  (REP) Republican \n",
              "  total.votes registered.voters ballots.cast num.Precinct.total\n",
              "1 1978408     6428581           3949757      159               \n",
              "2 1923685     6428581           3949757      159               \n",
              "3   37235     6428581           3949757      159               \n",
              "4 1951738     6428581           3949739      159               \n",
              "5 1828566     6428581           3949739      159               \n",
              "6 1906588     6428581           3949738      159               \n",
              "  num.Precinct.rptg over.votes under.votes\n",
              "1 159               0          0          \n",
              "2 159               0          0          \n",
              "3 159               0          0          \n",
              "4 159               0          0          \n",
              "5 159               0          0          \n",
              "6 159               0          0          "
            ],
            "text/latex": "A data.frame: 6 × 11\n\\begin{tabular}{r|lllllllllll}\n  & line.number & contest.name & choice.name & party.name & total.votes & registered.voters & ballots.cast & num.Precinct.total & num.Precinct.rptg & over.votes & under.votes\\\\\n  & <int> & <fct> & <fct> & <fct> & <int> & <int> & <int> & <int> & <int> & <int> & <int>\\\\\n\\hline\n\t1 & 1 & Governor            & BRIAN KEMP  (REP)         & Republican  & 1978408 & 6428581 & 3949757 & 159 & 159 & 0 & 0\\\\\n\t2 & 2 & Governor            & STACEY ABRAMS  (DEM)      & Democrat    & 1923685 & 6428581 & 3949757 & 159 & 159 & 0 & 0\\\\\n\t3 & 3 & Governor            & TED METZ (LIB)            & Liberterian &   37235 & 6428581 & 3949757 & 159 & 159 & 0 & 0\\\\\n\t4 & 4 & Lieutenant Governor & GEOFF DUNCAN  (REP)       & Republican  & 1951738 & 6428581 & 3949739 & 159 & 159 & 0 & 0\\\\\n\t5 & 5 & Lieutenant Governor & SARAH RIGGS AMICO (DEM)   & Democrat    & 1828566 & 6428581 & 3949739 & 159 & 159 & 0 & 0\\\\\n\t6 & 6 & Secretary Of State  & BRAD RAFFENSPERGER  (REP) & Republican  & 1906588 & 6428581 & 3949738 & 159 & 159 & 0 & 0\\\\\n\\end{tabular}\n",
            "text/markdown": "\nA data.frame: 6 × 11\n\n| <!--/--> | line.number &lt;int&gt; | contest.name &lt;fct&gt; | choice.name &lt;fct&gt; | party.name &lt;fct&gt; | total.votes &lt;int&gt; | registered.voters &lt;int&gt; | ballots.cast &lt;int&gt; | num.Precinct.total &lt;int&gt; | num.Precinct.rptg &lt;int&gt; | over.votes &lt;int&gt; | under.votes &lt;int&gt; |\n|---|---|---|---|---|---|---|---|---|---|---|---|\n| 1 | 1 | Governor            | BRIAN KEMP  (REP)         | Republican  | 1978408 | 6428581 | 3949757 | 159 | 159 | 0 | 0 |\n| 2 | 2 | Governor            | STACEY ABRAMS  (DEM)      | Democrat    | 1923685 | 6428581 | 3949757 | 159 | 159 | 0 | 0 |\n| 3 | 3 | Governor            | TED METZ (LIB)            | Liberterian |   37235 | 6428581 | 3949757 | 159 | 159 | 0 | 0 |\n| 4 | 4 | Lieutenant Governor | GEOFF DUNCAN  (REP)       | Republican  | 1951738 | 6428581 | 3949739 | 159 | 159 | 0 | 0 |\n| 5 | 5 | Lieutenant Governor | SARAH RIGGS AMICO (DEM)   | Democrat    | 1828566 | 6428581 | 3949739 | 159 | 159 | 0 | 0 |\n| 6 | 6 | Secretary Of State  | BRAD RAFFENSPERGER  (REP) | Republican  | 1906588 | 6428581 | 3949738 | 159 | 159 | 0 | 0 |\n\n",
            "text/html": [
              "<table>\n",
              "<caption>A data.frame: 6 × 11</caption>\n",
              "<thead>\n",
              "\t<tr><th></th><th scope=col>line.number</th><th scope=col>contest.name</th><th scope=col>choice.name</th><th scope=col>party.name</th><th scope=col>total.votes</th><th scope=col>registered.voters</th><th scope=col>ballots.cast</th><th scope=col>num.Precinct.total</th><th scope=col>num.Precinct.rptg</th><th scope=col>over.votes</th><th scope=col>under.votes</th></tr>\n",
              "\t<tr><th></th><th scope=col>&lt;int&gt;</th><th scope=col>&lt;fct&gt;</th><th scope=col>&lt;fct&gt;</th><th scope=col>&lt;fct&gt;</th><th scope=col>&lt;int&gt;</th><th scope=col>&lt;int&gt;</th><th scope=col>&lt;int&gt;</th><th scope=col>&lt;int&gt;</th><th scope=col>&lt;int&gt;</th><th scope=col>&lt;int&gt;</th><th scope=col>&lt;int&gt;</th></tr>\n",
              "</thead>\n",
              "<tbody>\n",
              "\t<tr><th scope=row>1</th><td>1</td><td>Governor           </td><td>BRIAN KEMP  (REP)        </td><td>Republican </td><td>1978408</td><td>6428581</td><td>3949757</td><td>159</td><td>159</td><td>0</td><td>0</td></tr>\n",
              "\t<tr><th scope=row>2</th><td>2</td><td>Governor           </td><td>STACEY ABRAMS  (DEM)     </td><td>Democrat   </td><td>1923685</td><td>6428581</td><td>3949757</td><td>159</td><td>159</td><td>0</td><td>0</td></tr>\n",
              "\t<tr><th scope=row>3</th><td>3</td><td>Governor           </td><td>TED METZ (LIB)           </td><td>Liberterian</td><td>  37235</td><td>6428581</td><td>3949757</td><td>159</td><td>159</td><td>0</td><td>0</td></tr>\n",
              "\t<tr><th scope=row>4</th><td>4</td><td>Lieutenant Governor</td><td>GEOFF DUNCAN  (REP)      </td><td>Republican </td><td>1951738</td><td>6428581</td><td>3949739</td><td>159</td><td>159</td><td>0</td><td>0</td></tr>\n",
              "\t<tr><th scope=row>5</th><td>5</td><td>Lieutenant Governor</td><td>SARAH RIGGS AMICO (DEM)  </td><td>Democrat   </td><td>1828566</td><td>6428581</td><td>3949739</td><td>159</td><td>159</td><td>0</td><td>0</td></tr>\n",
              "\t<tr><th scope=row>6</th><td>6</td><td>Secretary Of State </td><td>BRAD RAFFENSPERGER  (REP)</td><td>Republican </td><td>1906588</td><td>6428581</td><td>3949738</td><td>159</td><td>159</td><td>0</td><td>0</td></tr>\n",
              "</tbody>\n",
              "</table>\n"
            ]
          },
          "metadata": {
            "tags": []
          }
        }
      ]
    }
  ]
}